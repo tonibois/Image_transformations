{
  "nbformat": 4,
  "nbformat_minor": 5,
  "metadata": {
    "kernelspec": {
      "display_name": "Python 3",
      "language": "python",
      "name": "python3"
    },
    "language_info": {
      "codemirror_mode": {
        "name": "ipython",
        "version": 3
      },
      "file_extension": ".py",
      "mimetype": "text/x-python",
      "name": "python",
      "nbconvert_exporter": "python",
      "pygments_lexer": "ipython3",
      "version": "3.8.10"
    },
    "colab": {
      "name": "Imagetransformations.ipynb",
      "provenance": [],
      "collapsed_sections": [
        "76fa9193",
        "406f3655",
        "1eb34560",
        "85f19adb",
        "3828deef",
        "1d57fc9a",
        "ef8ca2de",
        "90259e19",
        "67a2819c",
        "ed5b2017",
        "804ec33b",
        "be86f74a",
        "5012aa61",
        "824e36a2",
        "c852a20e",
        "1d65dbb9",
        "cb545988"
      ],
      "toc_visible": true,
      "include_colab_link": true
    }
  },
  "cells": [
    {
      "cell_type": "markdown",
      "metadata": {
        "id": "view-in-github",
        "colab_type": "text"
      },
      "source": [
        "<a href=\"https://colab.research.google.com/github/tonibois/Image_transformations/blob/main/Imagetransformations_20211108.ipynb\" target=\"_parent\"><img src=\"https://colab.research.google.com/assets/colab-badge.svg\" alt=\"Open In Colab\"/></a>"
      ]
    },
    {
      "cell_type": "markdown",
      "metadata": {
        "id": "93dfe0cb"
      },
      "source": [
        "# Image Transformations\n",
        "\n",
        "----------------\n",
        "\n",
        "+ CIFP Pau Casesnoves (2021/2022)\n",
        "+ Professor    : Antoni Oliver Gelabert\n",
        "+ Degree       : Development of Web Applications (DAM) \n",
        "+ Subject      : Interface Web Design (DIW) - Multimedia elements for the web\n",
        "\n",
        "----------------\n",
        "\n",
        "### Resume\n",
        "\n",
        "1. Visualization\n",
        "1. Format conversion\n",
        "1. Crop\n",
        "1. **Activity 11. Modify this script to align the top and the bottom images** \n",
        "1. Resize\n",
        "1. Rotations\n",
        "1. Image Deformations \n",
        "1. **Activity 12: Make a GIF animation of a rotating figure with at least 20 frames**\n",
        "1. Distance, area and angle measurements\n",
        "1. Threshold\n",
        "1. Color reduction\n",
        "1. Color Replacement\n",
        "1. Morphological transformations: noise reduction, adding noise, growth-dilate\n",
        "1. Region Clone\n",
        "1. Histogram\n",
        "1. Gamma Correction\n",
        "1. Encipher-Decipher images\n",
        "1. **Activity 13. Encipher-Decipher images**\n",
        "1. Hole Filling\n",
        "1. Transparency\n",
        "1. Special effects\n",
        "1. Other special Effects\n",
        "1. ColorSpaces\n",
        "1. Backgroud creation:\n",
        "1. Combining Images\n",
        "1. Image Information\n",
        "1. Image Optimizations\n",
        "1. Bash scripting to process an image or several images\n",
        "1. Advanced image processing techniques:\n",
        "1. Photo improvement:\n",
        "1. Advanced animations:\n",
        "1. Advanced scripting:\n",
        "1. **Exercices**\n",
        "1. Resources:\n"
      ],
      "id": "93dfe0cb"
    },
    {
      "cell_type": "markdown",
      "metadata": {
        "id": "e3f57280"
      },
      "source": [
        "Before start, download the image which is in the following path:\n",
        "https://live.staticflickr.com/7286/9059564319_374d60828a_b.jpg"
      ],
      "id": "e3f57280"
    },
    {
      "cell_type": "code",
      "metadata": {
        "id": "1838827f"
      },
      "source": [
        "!wget https://live.staticflickr.com/7286/9059564319_374d60828a_b.jpg -O husky.jpg > /dev/null"
      ],
      "id": "1838827f",
      "execution_count": null,
      "outputs": []
    },
    {
      "cell_type": "code",
      "metadata": {
        "id": "NH6QQZWT-170"
      },
      "source": [
        "!ls"
      ],
      "id": "NH6QQZWT-170",
      "execution_count": null,
      "outputs": []
    },
    {
      "cell_type": "markdown",
      "metadata": {
        "id": "e58903f7"
      },
      "source": [
        "## 1. Visualization"
      ],
      "id": "e58903f7"
    },
    {
      "cell_type": "markdown",
      "metadata": {
        "id": "f8811e12"
      },
      "source": [
        "See an image with a viewer (for instance, using display, GIMP or anyother software)"
      ],
      "id": "f8811e12"
    },
    {
      "cell_type": "code",
      "metadata": {
        "id": "45924c62"
      },
      "source": [
        "!apt install imagemagick > /dev/null\n",
        "from IPython.display import Image\n",
        "Image(filename=\"husky.jpg\", width=600)\n",
        "#!display husky.jpg\n",
        "#!gimp husky.jpg\n",
        "#!inkscape husky.jpg\n"
      ],
      "id": "45924c62",
      "execution_count": null,
      "outputs": []
    },
    {
      "cell_type": "markdown",
      "metadata": {
        "id": "76fa9193"
      },
      "source": [
        "## 2. Format conversion"
      ],
      "id": "76fa9193"
    },
    {
      "cell_type": "code",
      "metadata": {
        "id": "a0dfea65"
      },
      "source": [
        "!convert husky.jpg husky.png\n",
        "!convert husky.jpg husky.gif"
      ],
      "id": "a0dfea65",
      "execution_count": null,
      "outputs": []
    },
    {
      "cell_type": "code",
      "metadata": {
        "id": "QeUDJ8vlBFup"
      },
      "source": [
        "!ls"
      ],
      "id": "QeUDJ8vlBFup",
      "execution_count": null,
      "outputs": []
    },
    {
      "cell_type": "code",
      "metadata": {
        "id": "0o2gVnsTAdI9"
      },
      "source": [
        "Image(filename=\"husky.png\", width=300)"
      ],
      "id": "0o2gVnsTAdI9",
      "execution_count": null,
      "outputs": []
    },
    {
      "cell_type": "markdown",
      "metadata": {
        "id": "406f3655"
      },
      "source": [
        "## 3. Crop"
      ],
      "id": "406f3655"
    },
    {
      "cell_type": "code",
      "metadata": {
        "id": "865eba43"
      },
      "source": [
        "!convert husky.png -gravity North-West -crop 300x300+0+0 husky_crop_gnw_200_200_0_0.png\n",
        "!convert husky.png -gravity North  -crop 300x300+0+0 husky_crop_gn_200_200_0_0.png\n",
        "!convert husky.png -gravity North-East  -crop 300x300+0+0 husky_crop_gne_200_200_0_0.png\n",
        "!convert husky.png -gravity Center  -crop 300x300-300+0 husky_crop_gcw_200_200_0_300.png\n",
        "!convert husky.png -gravity Center  -crop 300x300+0+0 husky_crop_gc_200_200_0_0.png\n",
        "!convert husky.png -gravity Center  -crop 300x300+300+0 husky_crop_gce_200_200_0_300.png\n",
        "!convert husky.png -gravity South-West -crop 300x300+0+0 husky_crop_gsw_200_200_0_0.png\n",
        "!convert husky.png -gravity South  -crop 300x300+0+0 husky_crop_gs_200_200_0_0.png\n",
        "!convert husky.png -gravity South-East  -crop 300x300+0+0 husky_crop_gse_200_200_0_0.png\n",
        "!montage -frame 20  -shadow  -geometry 300x300 -tile 3x3 husky_crop_gnw_200_200_0_0.png husky_crop_gn_200_200_0_0.png husky_crop_gne_200_200_0_0.png  husky_crop_gcw_200_200_0_300.png husky_crop_gc_200_200_0_0.png husky_crop_gce_200_200_0_300.png husky_crop_gsw_200_200_0_0.png husky_crop_gs_200_200_0_0.png husky_crop_gse_200_200_0_0.png huskymont.png "
      ],
      "id": "865eba43",
      "execution_count": null,
      "outputs": []
    },
    {
      "cell_type": "code",
      "metadata": {
        "id": "g7J4quMXBpDQ"
      },
      "source": [
        "!convert husky.png -gravity North-West -crop 200x200+0+0 husky_crop_gnw_200_200_0_0.png"
      ],
      "id": "g7J4quMXBpDQ",
      "execution_count": null,
      "outputs": []
    },
    {
      "cell_type": "markdown",
      "metadata": {
        "id": "30b0d90c"
      },
      "source": [
        "See more of montage operations here: https://legacy.imagemagick.org/Usage/montage/"
      ],
      "id": "30b0d90c"
    },
    {
      "cell_type": "code",
      "metadata": {
        "id": "fbbd4933"
      },
      "source": [
        "from IPython.display import Image\n",
        "Image(filename=\"huskymont.png\", width=600)"
      ],
      "id": "fbbd4933",
      "execution_count": null,
      "outputs": []
    },
    {
      "cell_type": "markdown",
      "metadata": {
        "id": "17521c33"
      },
      "source": [
        "## Activity 11. Modify this script to align the top and the bottom images playing with crop regions"
      ],
      "id": "17521c33"
    },
    {
      "cell_type": "markdown",
      "metadata": {
        "id": "1eb34560"
      },
      "source": [
        "## 4. Resize"
      ],
      "id": "1eb34560"
    },
    {
      "cell_type": "code",
      "metadata": {
        "id": "c32f21f3"
      },
      "source": [
        "!identify husky.png"
      ],
      "id": "c32f21f3",
      "execution_count": null,
      "outputs": []
    },
    {
      "cell_type": "code",
      "metadata": {
        "id": "d11624f8"
      },
      "source": [
        "!convert husky.png -resize 300x300 tinyhusky.png\n",
        "!convert husky.png -resize 600x600 mediumhusky.png\n",
        "Image(filename=\"tinyhusky.png\")"
      ],
      "id": "d11624f8",
      "execution_count": null,
      "outputs": []
    },
    {
      "cell_type": "code",
      "metadata": {
        "id": "d8742cb6"
      },
      "source": [
        "!identify mediumhusky.png"
      ],
      "id": "d8742cb6",
      "execution_count": null,
      "outputs": []
    },
    {
      "cell_type": "code",
      "metadata": {
        "id": "5ab13c6e"
      },
      "source": [
        "Image(filename=\"mediumhusky.png\")"
      ],
      "id": "5ab13c6e",
      "execution_count": null,
      "outputs": []
    },
    {
      "cell_type": "markdown",
      "metadata": {
        "id": "85f19adb"
      },
      "source": [
        "## 5. Rotations\n",
        "\n",
        "Options: -flip, -rotate, -transverse, -transpose"
      ],
      "id": "85f19adb"
    },
    {
      "cell_type": "code",
      "metadata": {
        "id": "29079d55"
      },
      "source": [
        "from IPython.display import Image\n",
        "!convert husky.png -flip -label \"%m:%f %wx%h\" huskyflip.png\n",
        "!convert husky.png -rotate 90  -label \"%m:%f %wx%h\" huskyrotated.png\n",
        "!convert husky.png -transverse -label \"%m:%f %wx%h\" transvershusky.png\n",
        "!convert husky.png -transpose -label \"%m:%f %wx%h\" transposedhusky.png\n",
        "!montage -frame 5  -shadow  -geometry 300x300 -tile 2x2 huskyflip.png huskyrotated.png transvershusky.png transposedhusky.png shearedhuskymont.png\n",
        "Image(filename=\"shearedhuskymont.png\")"
      ],
      "id": "29079d55",
      "execution_count": null,
      "outputs": []
    },
    {
      "cell_type": "code",
      "metadata": {
        "id": "62b3c7f9"
      },
      "source": [
        "from IPython.display import Image\n",
        "!convert husky.png -rotate 15 -label \"%m:%f %wx%h\" rhuskyr01.png\n",
        "!convert husky.png -rotate 30  -label \"%m:%f %wx%h\" rhuskyr02.png\n",
        "!convert husky.png -rotate 45  -label \"%m:%f %wx%h\" rhuskyr03.png\n",
        "!convert husky.png -rotate 60  -label \"%m:%f %wx%h\" rhuskyr04.png\n",
        "!convert husky.png -rotate 75  -label \"%m:%f %wx%h\" rhuskyr05.png\n",
        "!convert husky.png -rotate 90  -label \"%m:%f %wx%h\" rhuskyr06.png\n",
        "!convert husky.png -rotate 105  -label \"%m:%f %wx%h\" rhuskyr07.png\n",
        "!convert husky.png -rotate 120  -label \"%m:%f %wx%h\" rhuskyr08.png\n",
        "!convert husky.png -rotate 135  -label \"%m:%f %wx%h\" rhuskyr09.png\n",
        "!convert husky.png -rotate 150  -label \"%m:%f %wx%h\" rhuskyr10.png\n",
        "!convert husky.png -rotate 165  -label \"%m:%f %wx%h\" rhuskyr11.png\n",
        "!convert husky.png -rotate 180  -label \"%m:%f %wx%h\" rhuskyr12.png\n",
        "!montage -frame 5  -shadow  -geometry 300x300 -tile 3x4 rhuskyr*.png rotatedhuskymont.png\n",
        "Image(filename=\"rotatedhuskymont.png\", width=900)"
      ],
      "id": "62b3c7f9",
      "execution_count": null,
      "outputs": []
    },
    {
      "cell_type": "markdown",
      "metadata": {
        "id": "3828deef"
      },
      "source": [
        "## 6. Image Deformations\n",
        "\n",
        "Options:  -shear"
      ],
      "id": "3828deef"
    },
    {
      "cell_type": "code",
      "metadata": {
        "id": "97c4e9b3"
      },
      "source": [
        "from IPython.display import Image\n",
        "!convert husky.png -shear 0x5  -label '%f' shearedhusky1.png\n",
        "!convert husky.png -shear 20x5  -label '%f' shearedhusky2.png\n",
        "!convert husky.png -shear 20x5  -shear 50x0 -label '%f' shearedhusky3.png\n",
        "!convert husky.png -shear 10x10  -shear 50x25 -label '%f' shearedhusky4.png\n",
        "!montage -frame 5  -shadow  -geometry 300x300 -tile 2x2 shearedhusky1.png shearedhusky2.png shearedhusky3.png shearedhusky4.png shearedhuskymont.png\n",
        "Image(filename=\"shearedhuskymont.png\")"
      ],
      "id": "97c4e9b3",
      "execution_count": null,
      "outputs": []
    },
    {
      "cell_type": "markdown",
      "metadata": {
        "id": "f798463b"
      },
      "source": [
        "## Activity 12: Make a GIF animation of a rotating figure with at least 20 frames"
      ],
      "id": "f798463b"
    },
    {
      "cell_type": "markdown",
      "metadata": {
        "id": "2a525536"
      },
      "source": [
        "## 7. Distance, area and angle measurements\n",
        "\n",
        "Using GIMP and Inkscape"
      ],
      "id": "2a525536"
    },
    {
      "cell_type": "markdown",
      "metadata": {
        "id": "1d57fc9a"
      },
      "source": [
        "## 8. Threshold"
      ],
      "id": "1d57fc9a"
    },
    {
      "cell_type": "markdown",
      "metadata": {
        "id": "59e7bfa3"
      },
      "source": [
        "Set Transparency levels"
      ],
      "id": "59e7bfa3"
    },
    {
      "cell_type": "code",
      "metadata": {
        "id": "3a543d9b"
      },
      "source": [
        "!convert husky.png -white-threshold 80% -transparent white husky_binarized_80pc.png\n",
        "!convert husky.png -white-threshold 60% -transparent white husky_binarized_60pc.png\n",
        "!convert husky.png -white-threshold 40% -transparent white husky_binarized_40pc.png\n",
        "!convert husky.png -white-threshold 20% -transparent white husky_binarized_20pc.png\n",
        "!montage -frame 5  -shadow  -geometry 500x500 -tile 2x2 husky_binar*.png binhuskymont2.png\n",
        "Image(filename=\"binhuskymont2.png\", width=600)"
      ],
      "id": "3a543d9b",
      "execution_count": null,
      "outputs": []
    },
    {
      "cell_type": "code",
      "metadata": {
        "id": "01a753f1"
      },
      "source": [
        "!convert husky.png -white-threshold 80% -transparent white husky_binarized_80pc.gif\n",
        "!convert husky.png -white-threshold 60% -transparent white husky_binarized_60pc.gif\n",
        "!convert husky.png -white-threshold 50% -transparent white husky_binarized_50pc.gif\n",
        "!convert husky.png -white-threshold 40% -transparent white husky_binarized_40pc.gif\n",
        "!convert husky.png -white-threshold 20% -transparent white husky_binarized_20pc.gif\n",
        "!convert -delay 70 +loop husky_bin*.gif binhuskyanim.gif\n",
        "!convert binhuskyanim.gif binhuskyanim.webm\n",
        "#gif=binhuskyanim.gif\n",
        "Image(open('binhuskyanim.gif', 'rb').read(),width=600)\n",
        "#Image(filename=\"binhuskyanim.webm\", width=600)"
      ],
      "id": "01a753f1",
      "execution_count": null,
      "outputs": []
    },
    {
      "cell_type": "code",
      "metadata": {
        "id": "187bd54f"
      },
      "source": [
        "!convert husky.png -set colorspace Gray -separate -average huskygray.png\n",
        "Image(filename=\"huskygray.png\", width=600)"
      ],
      "id": "187bd54f",
      "execution_count": null,
      "outputs": []
    },
    {
      "cell_type": "code",
      "metadata": {
        "id": "2fddaa0d"
      },
      "source": [
        "!convert husky.png -threshold 80% husky_bwbinarized_80pc.gif\n",
        "!convert husky.png -threshold 60% husky_bwbinarized_60pc.gif\n",
        "!convert husky.png -threshold 50% husky_bwbinarized_50pc.gif\n",
        "!convert husky.png -threshold 40% husky_bwbinarized_40pc.gif\n",
        "!convert husky.png -threshold 20% husky_bwbinarized_20pc.gif\n",
        "!convert -delay 70 +loop husky_bwbin*.gif binhuskyanimbw.gif\n",
        "Image(open('binhuskyanimbw.gif', 'rb').read(), width=600)"
      ],
      "id": "2fddaa0d",
      "execution_count": null,
      "outputs": []
    },
    {
      "cell_type": "markdown",
      "metadata": {
        "id": "b93ece72"
      },
      "source": [
        "+ http://www.fmwconcepts.com/imagemagick/kapurthresh/index.php\n",
        "+ http://www.fmwconcepts.com/imagemagick/otsuthresh/index.php \n",
        "+ http://www.fmwconcepts.com/imagemagick/trianglethresh/index.php\n",
        "+ http://www.fmwconcepts.com/imagemagick/2colorthresh/index.php\n",
        "+ http://www.fmwconcepts.com/imagemagick/localthresh/index.php\n"
      ],
      "id": "b93ece72"
    },
    {
      "cell_type": "markdown",
      "metadata": {
        "id": "ef8ca2de"
      },
      "source": [
        "## 9. Color reduction"
      ],
      "id": "ef8ca2de"
    },
    {
      "cell_type": "code",
      "metadata": {
        "id": "9641d3e6"
      },
      "source": [
        "!convert husky.png  -dither Riemersma  -colors 2   husky_002_rm.gif\n",
        "!convert husky.png  -dither Riemersma  -colors 3   husky_003_rm.gif\n",
        "!convert husky.png  -dither Riemersma  -colors 4   husky_004_rm.gif\n",
        "!convert husky.png  -dither Riemersma  -colors 8   husky_008_rm.gif\n",
        "!convert husky.png  -dither Riemersma  -colors 16  husky_016_rm.gif\n",
        "!convert husky.png  -dither Riemersma  -colors 32  husky_032_rm.gif\n",
        "!convert husky.png  -dither Riemersma  -colors 64  husky_064_rm.gif\n",
        "!convert husky.png  -dither Riemersma  -colors 128 husky_128_rm.gif\n",
        "!convert husky.png  -dither Riemersma  -colors 255 husky_255_rm.gif\n",
        "!convert -delay 70 +loop husky_*rm.gif dither_huskyanim.gif\n",
        "Image(open(\"dither_huskyanim.gif\",'rb').read(), width=600)"
      ],
      "id": "9641d3e6",
      "execution_count": null,
      "outputs": []
    },
    {
      "cell_type": "code",
      "metadata": {
        "id": "7a565fba"
      },
      "source": [
        "!montage -frame 5  -shadow  -geometry 600x600 -tile 3x3 husky_*rm.gif ditherhuskymont.png\n",
        "Image(filename=\"ditherhuskymont.png\", width=600)"
      ],
      "id": "7a565fba",
      "execution_count": null,
      "outputs": []
    },
    {
      "cell_type": "markdown",
      "metadata": {
        "id": "90259e19"
      },
      "source": [
        "## 10. Color Replacement\n",
        "\n",
        "See https://legacy.imagemagick.org/Usage/color_basics/#replace\n"
      ],
      "id": "90259e19"
    },
    {
      "cell_type": "code",
      "metadata": {
        "id": "dbccaddc"
      },
      "source": [
        "!convert husky.png -fuzz 25% -fill white -opaque blue opaque_b25_husky.jpg\n",
        "!convert husky.png -fuzz 50% -fill white -opaque blue opaque_b50_husky.jpg\n",
        "!convert husky.png -fuzz 75% -fill white -opaque blue opaque_b75_husky.jpg\n",
        "!convert husky.png -fuzz 0% -fill white -opaque blue opaque_b00_husky.jpg\n",
        "!convert husky.png -fuzz 25% -fill white -opaque red opaque_r25_husky.jpg\n",
        "!convert husky.png -fuzz 50% -fill white -opaque red opaque_r50_husky.jpg\n",
        "!convert husky.png -fuzz 75% -fill white -opaque red opaque_r75_husky.jpg\n",
        "!convert husky.png -fuzz 0% -fill white -opaque red opaque_r00_husky.jpg\n",
        "!convert husky.png -fuzz 25% -fill white -opaque green opaque_g25_husky.jpg\n",
        "!convert husky.png -fuzz 50% -fill white -opaque green opaque_g50_husky.jpg\n",
        "!convert husky.png -fuzz 75% -fill white -opaque green opaque_g75_husky.jpg\n",
        "!convert husky.png -fuzz 0% -fill white -opaque green opaque_g00_husky.jpg\n",
        "!convert -delay 70 +loop opaque*.jpg huskyanim_replcolors.gif\n",
        "Image(open(\"huskyanim_replcolors.gif\",'rb').read(), width=600)"
      ],
      "id": "dbccaddc",
      "execution_count": null,
      "outputs": []
    },
    {
      "cell_type": "code",
      "metadata": {
        "id": "518b21be"
      },
      "source": [
        "!montage -frame 5  -shadow  -geometry 500x500 -tile 4x3 opaque_*.jpg coloreplacemont.png\n",
        "Image(filename=\"coloreplacemont.png\", width=800)"
      ],
      "id": "518b21be",
      "execution_count": null,
      "outputs": []
    },
    {
      "cell_type": "markdown",
      "metadata": {
        "id": "96e3348e"
      },
      "source": [
        "\n",
        "## 11. Morphological transformations: noise reduction, adding noise, growth-dilate\n",
        "\n",
        "+ morphology operations: http://www.fmwconcepts.com/imagemagick/morphology/index.php\n",
        "+ morphology operations (2): https://legacy.imagemagick.org/Usage/morphology/ \n",
        "+ Noise Reduction : http://www.fmwconcepts.com/imagemagick/denoise/index.php\n",
        "+ Noise Cleaner : http://www.fmwconcepts.com/imagemagick/noisecleaner/index.php"
      ],
      "id": "96e3348e"
    },
    {
      "cell_type": "markdown",
      "metadata": {
        "id": "c8ff7d67"
      },
      "source": [
        "## 12. Region Clone\n",
        "\n",
        "Easily perform this using GIMP"
      ],
      "id": "c8ff7d67"
    },
    {
      "cell_type": "markdown",
      "metadata": {
        "id": "67a2819c"
      },
      "source": [
        "## 13. Histogram\n",
        "\n",
        "https://legacy.imagemagick.org/Usage/color_mods/"
      ],
      "id": "67a2819c"
    },
    {
      "cell_type": "code",
      "metadata": {
        "id": "65f806ae"
      },
      "source": [
        "!convert husky.png -define histogram:unique-colors=true histogram:histogramhusky.jpg\n",
        "Image(filename=\"histogramhusky.jpg\", width=600)"
      ],
      "id": "65f806ae",
      "execution_count": null,
      "outputs": []
    },
    {
      "cell_type": "code",
      "metadata": {
        "id": "8be37a53"
      },
      "source": [
        "!convert histogramhusky.jpg -strip -resize 50% -separate  histogram_%d.jpg\n",
        "!montage -frame 5  -shadow  -geometry 500x500 -tile 3x1  histogram_*jpg monthistogram.jpg\n",
        "Image(filename=\"monthistogram.jpg\", width=900)"
      ],
      "id": "8be37a53",
      "execution_count": null,
      "outputs": []
    },
    {
      "cell_type": "markdown",
      "metadata": {
        "id": "ed5b2017"
      },
      "source": [
        "## 14. Gamma Correction\n",
        "\n",
        "linear operators : -normalize\", \"-contrast-stretch\", and \"-linear-stretch\"\n",
        "non-linear operators : -equalize\"\n",
        "https://legacy.imagemagick.org/Usage/color_mods/"
      ],
      "id": "ed5b2017"
    },
    {
      "cell_type": "code",
      "metadata": {
        "id": "9a33f7fc"
      },
      "source": [
        "!convert husky.png -gamma 0.2 husky_gamma_02.jpg\n",
        "!convert husky.png -gamma 0.5 husky_gamma_05.jpg\n",
        "!convert husky.png -gamma 1.0 husky_gamma_10.jpg\n",
        "!convert husky.png -gamma 1.5 husky_gamma_15.jpg\n",
        "!convert husky.png -gamma 2.0 husky_gamma_20.jpg\n",
        "!convert husky.png -gamma 2.2 husky_gamma_22.jpg\n",
        "!montage -frame 5  -shadow  -geometry 400x400 -tile 3x2 husky_gamma*.jpg montagegamma.png\n",
        "Image(filename=\"montagegamma.png\", width=600)"
      ],
      "id": "9a33f7fc",
      "execution_count": null,
      "outputs": []
    },
    {
      "cell_type": "code",
      "metadata": {
        "id": "udWbPk8AMw-i"
      },
      "source": [
        "#!convert husky.png -gamma 0.5 husky_gamma_10.jpg\n",
        "#!convert husky.png -gamma 1.5 husky_gamma_15.jpg\n",
        "!montage -frame 5  -shadow  -geometry 400x400 -tile 2x1 husky_gamma_10.jpg husky_gamma_05.jpg montagegamma.png\n",
        "Image(filename=\"montagegamma.png\", width=600)"
      ],
      "id": "udWbPk8AMw-i",
      "execution_count": null,
      "outputs": []
    },
    {
      "cell_type": "code",
      "metadata": {
        "id": "c9f6cac0"
      },
      "source": [
        "!convert husky.png -gamma 0.2,0.5,1.5 husky_gamma2_02.jpg\n",
        "!convert husky.png -gamma 0.5,1.5,1.5 husky_gamma2_05.jpg\n",
        "!convert husky.png -gamma 1.0,2.0,1.5 husky_gamma2_10.jpg\n",
        "!convert husky.png -gamma 2.0,0.5,1.5 husky_gamma2_15.jpg\n",
        "!convert husky.png -gamma 1.5,1.5,0.5 husky_gamma2_20.jpg\n",
        "!convert husky.png -gamma 0.5,2.0,1.0 husky_gamma2_22.jpg\n",
        "!montage -frame 5  -shadow  -geometry 400x400 -tile 3x2 husky_gamma2*.jpg montagegamma2.png\n",
        "Image(filename=\"montagegamma2.png\", width=900)"
      ],
      "id": "c9f6cac0",
      "execution_count": null,
      "outputs": []
    },
    {
      "cell_type": "code",
      "metadata": {
        "id": "74f4a502"
      },
      "source": [
        "!convert husky.png -auto-level husky_autolevel.png\n",
        "!convert husky.png -contrast -contrast -contrast -contrast husky_contrastb4.png\n",
        "!convert husky.png -equalize husky_equalize.png\n",
        "!montage -frame 5  -shadow  -geometry 500x500 -tile 2x2 husky.png husky_autolevel.png husky_contrastb4.png husky_equalize.png montageautolevel.png\n",
        "Image(filename=\"montageautolevel.png\", width=900)"
      ],
      "id": "74f4a502",
      "execution_count": null,
      "outputs": []
    },
    {
      "cell_type": "code",
      "metadata": {
        "id": "396b9922"
      },
      "source": [
        "!convert husky.png -equalize husky_equalize.png"
      ],
      "id": "396b9922",
      "execution_count": null,
      "outputs": []
    },
    {
      "cell_type": "code",
      "metadata": {
        "id": "72fe9eea"
      },
      "source": [
        "!convert husky_contrastb4.png -define histogram:unique-colors=true histogram:histogramhusky_contrastb4.jpg\n",
        "!convert husky_equalize.png -define histogram:unique-colors=true histogram:histogramhusky_equalize.jpg\n",
        "!montage -frame 5  -shadow  -geometry 500x500 -tile 2x1 histogram:histogramhusky_contrastb4.jpg histogramhusky_equalize.jpg histogramhuskymont.jpg\n",
        "Image(filename=\"histogramhuskymont.jpg\", width=600)"
      ],
      "id": "72fe9eea",
      "execution_count": null,
      "outputs": []
    },
    {
      "cell_type": "code",
      "metadata": {
        "id": "6dd71bdf"
      },
      "source": [
        "!convert husky_equalize.png -define histogram:unique-colors=true -format %c histogram:info:- > hist_picture.txt\n",
        "!head -n 20 hist_picture.txt"
      ],
      "id": "6dd71bdf",
      "execution_count": null,
      "outputs": []
    },
    {
      "cell_type": "code",
      "metadata": {
        "id": "d7081214"
      },
      "source": [
        "!gimp husky_contrastb4.png"
      ],
      "id": "d7081214",
      "execution_count": null,
      "outputs": []
    },
    {
      "cell_type": "markdown",
      "metadata": {
        "id": "804ec33b"
      },
      "source": [
        "## 15. Encipher-Decipher images\n",
        "\n",
        "https://imagemagick.org/script/cipher.php\n",
        "\n",
        "https://legacy.imagemagick.org/Usage/transform/#encipher\n"
      ],
      "id": "804ec33b"
    },
    {
      "cell_type": "markdown",
      "metadata": {
        "id": "49ee808a"
      },
      "source": [
        "Using a text file:"
      ],
      "id": "49ee808a"
    },
    {
      "cell_type": "code",
      "metadata": {
        "id": "471834da"
      },
      "source": [
        "!echo \"diw2122\" > passphrase.txt\n",
        "!convert husky.png -encipher passphrase.txt huskycyphtxt.png \n",
        "!display huskycyphtxt.png\n",
        "!montage -frame 5  -shadow  -geometry 500x500 -tile 2x1 husky.png huskycyphtxt.png huskyencrmont.jpg\n",
        "Image(filename=\"huskyencrmont.jpg\", width=600)"
      ],
      "id": "471834da",
      "execution_count": null,
      "outputs": []
    },
    {
      "cell_type": "markdown",
      "metadata": {
        "id": "531d923f"
      },
      "source": [
        "Using another image:"
      ],
      "id": "531d923f"
    },
    {
      "cell_type": "code",
      "metadata": {
        "id": "8be589c4"
      },
      "source": [
        "!convert husky.jpg -resize 30x30 -solarize 50% -swirl 250 husky30.gif\n",
        "!convert husky.png -encipher husky30.gif huskyimciph.png"
      ],
      "id": "8be589c4",
      "execution_count": null,
      "outputs": []
    },
    {
      "cell_type": "code",
      "metadata": {
        "id": "441aa256"
      },
      "source": [
        "#!wget -O homer.jpg\n",
        "#!convert homer.jpg -resize 30x30 -solarize 50% -swirl 250 encykey.gif\n",
        "#!convert homer.jpg -encipher encykey.gif encypim.png"
      ],
      "id": "441aa256",
      "execution_count": null,
      "outputs": []
    },
    {
      "cell_type": "markdown",
      "metadata": {
        "id": "c93d9029"
      },
      "source": [
        "## Activity 13. \n",
        "\n",
        "Using: \n",
        "\n",
        "+ The encypher key: encykey.gif \n",
        "+ The encyphed image: encypim.png\n",
        "    \n",
        "Decyph it...and put the commands used and the result image in your workbook "
      ],
      "id": "c93d9029"
    },
    {
      "cell_type": "markdown",
      "metadata": {
        "id": "a430e243"
      },
      "source": [
        "## 16. Hole Filling\n",
        "\n",
        "https://legacy.imagemagick.org/Usage/masking/"
      ],
      "id": "a430e243"
    },
    {
      "cell_type": "markdown",
      "metadata": {
        "id": "be86f74a"
      },
      "source": [
        "## 17. Transparency\n"
      ],
      "id": "be86f74a"
    },
    {
      "cell_type": "code",
      "metadata": {
        "id": "bcf7aef0"
      },
      "source": [
        "!convert husky.png  -alpha set -background none -channel A -evaluate multiply 0.75 +channel  husky75alpha.png\n",
        "!convert husky.png  -alpha set -background none -channel A -evaluate multiply 0.50 +channel  husky50alpha.png\n",
        "!convert husky.png  -alpha set -background none -channel A -evaluate multiply 0.25 +channel  husky25alpha.png\n",
        "!montage -frame 5  -shadow  -geometry 500x500 -tile 2x2 husky.png husky*alpha.png huskytranspsmont.jpg\n",
        "Image(filename=\"huskytranspsmont.jpg\", width=600)\n",
        "#!convert husky.png  -transparent white resized_transp_cont.png"
      ],
      "id": "bcf7aef0",
      "execution_count": null,
      "outputs": []
    },
    {
      "cell_type": "markdown",
      "metadata": {
        "id": "5012aa61"
      },
      "source": [
        "## 18. Special effects"
      ],
      "id": "5012aa61"
    },
    {
      "cell_type": "code",
      "metadata": {
        "id": "c66c6388"
      },
      "source": [
        "!convert husky.png -swirl 180 huskyswirl180.png\n",
        "!convert husky.png -paint 5 huskypaint5.png\n",
        "!convert husky.png -solarize 50 huskysolarize50.png\n",
        "!montage -frame 5  -shadow  -geometry 500x500 -tile 2x2 husky.png huskyswirl180.png huskypaint5.png huskysolarize50.png huskyeffectsmont.jpg\n",
        "Image(filename=\"huskyeffectsmont.jpg\", width=600)"
      ],
      "id": "c66c6388",
      "execution_count": null,
      "outputs": []
    },
    {
      "cell_type": "code",
      "metadata": {
        "id": "2333c78a"
      },
      "source": [
        "!convert husky.jpg  -modulate 60  modulate_off.png\n",
        "Image(filename=\"modulate_off.png\", width=600)"
      ],
      "id": "2333c78a",
      "execution_count": null,
      "outputs": []
    },
    {
      "cell_type": "markdown",
      "metadata": {
        "id": "c5710ed5"
      },
      "source": [
        "## Other special Effects\n",
        "\n",
        "+ Advanced effects: https://legacy.imagemagick.org/Usage/advanced/\n",
        "+ Variable Blur: http://www.fmwconcepts.com/imagemagick/variableblur/index.php\n",
        "+ Kaleidoscopic: \n",
        "    + http://www.fmwconcepts.com/imagemagick/kaleidoscopic/index.php\n",
        "    + http://www.fmwconcepts.com/imagemagick/kaleidoscope/index.php\n",
        "+ Vintage : http://www.fmwconcepts.com/imagemagick/vintage3/index.php \n",
        "+ Vignete : http://www.fmwconcepts.com/imagemagick/vignette3/index.php\n",
        "+ Sketch  : http://www.fmwconcepts.com/imagemagick/sketch/index.php  \n",
        "+ Noise Reduction : http://www.fmwconcepts.com/imagemagick/denoise/index.php\n",
        "+ Noise Cleaner   : http://www.fmwconcepts.com/imagemagick/noisecleaner/index.php\n",
        "+ Adding Noise : https://imagemagick.org/script/command-line-options.php#noise\n",
        "+ Erosion-Dilation: \n",
        "    + http://www.fmwconcepts.com/imagemagick/morphology/index.php\n",
        "    + https://legacy.imagemagick.org/Usage/morphology/\n",
        "+ Corner detection : http://www.fmwconcepts.com/imagemagick/corners/index.php\n",
        "+ Hough Lines : http://www.fmwconcepts.com/imagemagick/houghlines/index.php\n",
        "+ Fisheye to panoramic : http://www.fmwconcepts.com/imagemagick/fisheye2pano/index.php\n",
        "+ Pixelize : http://www.fmwconcepts.com/imagemagick/pixelize/index.php\n",
        "+ Puzzle   : http://www.fmwconcepts.com/imagemagick/puzzle/index.php\n",
        "+ Shuffle  : http://www.fmwconcepts.com/imagemagick/shuffle/index.php \n",
        "+ BoxGIF : http://www.fmwconcepts.com/imagemagick/3Dbox/index.php \n",
        "+ ColorReplace : http://www.fmwconcepts.com/imagemagick/replacecolor/index.php\n",
        "+ Lupe : http://www.fmwconcepts.com/imagemagick/lupe/index.php \n",
        "+ Glass efects: http://www.fmwconcepts.com/imagemagick/glasseffects/index.php\n",
        "+ Texturize : http://www.fmwconcepts.com/imagemagick/texturize/index.php\n",
        "+ Toonify: http://www.fmwconcepts.com/imagemagick/toonify/index.php\n",
        "+ Thermography: http://www.fmwconcepts.com/imagemagick/thermography/index.php\n",
        "+ pseudocolog : http://www.fmwconcepts.com/imagemagick/pseudocolor/index.php\n",
        "+ Red eye     : http://www.fmwconcepts.com/imagemagick/redeye/index.php\n",
        "+ Reflect     : http://www.fmwconcepts.com/imagemagick/reflect/index.php\n",
        "+ Watercolor   : http://www.fmwconcepts.com/imagemagick/watercolor/index.php\n",
        "+ Wharholeffect: http://www.fmwconcepts.com/imagemagick/warholeffect/index.php\n",
        "+ Stained Glass : http://www.fmwconcepts.com/imagemagick/stainedglass/index.php\n",
        "+ Shimmer       : http://www.fmwconcepts.com/imagemagick/shimmer/index.php"
      ],
      "id": "c5710ed5"
    },
    {
      "cell_type": "markdown",
      "metadata": {
        "id": "824e36a2"
      },
      "source": [
        "##19. ColorSpaces\n",
        "\n",
        "https://imagemagick.org/script/command-line-options.php#colorspace\n"
      ],
      "id": "824e36a2"
    },
    {
      "cell_type": "code",
      "metadata": {
        "id": "e35f1595"
      },
      "source": [
        "!convert husky.jpg  -colorspace CMY  huskycspcmy.jpg\n",
        "!convert husky.jpg  -colorspace CMYK huskycspcmyk.jpg\n",
        "!convert husky.jpg  -colorspace HSV  huskycsphsv.jpg\n",
        "!convert husky.jpg  -colorspace Gray huskycspgray.jpg\n",
        "!convert husky.jpg  -colorspace HSB  huskycsphsb.jpg\n",
        "!convert husky.jpg  -colorspace RGB  huskycspgrgb.jpg\n",
        "!montage -frame 5  -shadow  -geometry 500x500 -tile 2x3 huskycsp*.jpg huskycspmont.jpg\n",
        "Image(filename=\"huskycspmont.jpg\", width=600)\n",
        "#!convert image.jpg -set colorspace Gray -separate -average gray_image.tif "
      ],
      "id": "e35f1595",
      "execution_count": null,
      "outputs": []
    },
    {
      "cell_type": "code",
      "metadata": {
        "id": "qTinN0s7iQPx"
      },
      "source": [
        ""
      ],
      "id": "qTinN0s7iQPx",
      "execution_count": null,
      "outputs": []
    },
    {
      "cell_type": "markdown",
      "metadata": {
        "id": "aa51ffcf"
      },
      "source": [
        "## 20. Backgroud creation: \n",
        "\n",
        "https://legacy.imagemagick.org/Usage/backgrounds/"
      ],
      "id": "aa51ffcf"
    },
    {
      "cell_type": "markdown",
      "metadata": {
        "id": "c852a20e"
      },
      "source": [
        "## 21. Combining Images \n",
        "\n",
        "+ layers: https://legacy.imagemagick.org/Usage/layers/ \n",
        "+ mathematical operations: https://legacy.imagemagick.org/Usage/compose/#math\n",
        "  + adding images\n",
        "  + image difference\n",
        "  + Binary operations: AND, OR, XOR,...\n",
        "+ Drawing circles, lines, rectangles: https://legacy.imagemagick.org/Usage/layers/"
      ],
      "id": "c852a20e"
    },
    {
      "cell_type": "code",
      "metadata": {
        "id": "ftYq8GIe_CLi"
      },
      "source": [
        "!convert -size 60x60 xc:none -fill red -draw 'circle 30,21 30,3'   compose_R.png\n",
        "!convert -size 60x60 xc:none -fill lime -draw 'circle 39,39 36,57'  compose_G.png\n",
        "!convert -size 60x60 xc:none -fill blue -draw 'circle 21,39 24,57'  compose_B.png\n",
        "!composite -compose plus  compose_R.png compose_G.png  compose_plus_RG.png\n",
        "!composite -compose plus  compose_R.png compose_B.png  compose_plus_RB.png\n",
        "!composite -compose plus  compose_G.png compose_B.png  compose_plus_GB.png\n",
        "!composite -compose plus  compose_R.png compose_plus_GB.png compose_plus_RGB.png\n",
        "Image(filename=\"compose_plus_RGB.png\")"
      ],
      "id": "ftYq8GIe_CLi",
      "execution_count": null,
      "outputs": []
    },
    {
      "cell_type": "code",
      "metadata": {
        "id": "ks7TZT0mBWKK"
      },
      "source": [
        "!composite compose_plus_RGB.png  -compose minus  compose_R.png compose_minus.png\n",
        "Image(filename=\"compose_minus.png\")"
      ],
      "id": "ks7TZT0mBWKK",
      "execution_count": null,
      "outputs": []
    },
    {
      "cell_type": "markdown",
      "metadata": {
        "id": "fA1F8wIJzzAj"
      },
      "source": [
        "+ Adding watermark"
      ],
      "id": "fA1F8wIJzzAj"
    },
    {
      "cell_type": "code",
      "metadata": {
        "id": "PFSvqlAYzvQ7"
      },
      "source": [
        "!wget https://paucasesnovescifp.cat/wp-content/uploads/2021/04/cropped-logo-PAU-AENOR-2.png -O logo.png\n",
        "!composite -dissolve 15 -tile logo.png husky.png husky_wmarkerd1.jpg\n",
        "!composite -dissolve 50 -tile logo.png husky.png husky_wmarkerd2.jpg\n",
        "!composite -dissolve 80 -gravity NorthWest logo.png husky.png husky_wmarkerd3.jpg\n",
        "!convert husky.jpg -page +142+242 logo.png -flatten husky_wmarkerd4.jpg\n",
        "!montage -label '%f' husky_wmarkerd*.jpg -pointsize 50 -geometry +0+0 -background silver husky_montwmark.jpg\n",
        "Image(filename=\"husky_montwmark.jpg\",width=800)"
      ],
      "id": "PFSvqlAYzvQ7",
      "execution_count": null,
      "outputs": []
    },
    {
      "cell_type": "code",
      "metadata": {
        "id": "6274c2c7"
      },
      "source": [
        "!convert logo.png -resize 1000x1000 logo2.png\n",
        "!composite -gravity center logo2.png husky.png huskylogo.png\n",
        "!composite -gravity center logo2.png husky.png -dissolve 50 huskylogo2.png\n",
        "!montage -label '%f' huskylogo*.png -pointsize 50 -geometry +0+0 -background silver husky_montlogo.jpg\n",
        "Image(filename=\"husky_montlogo.jpg\",width=800)"
      ],
      "id": "6274c2c7",
      "execution_count": null,
      "outputs": []
    },
    {
      "cell_type": "markdown",
      "metadata": {
        "id": "86a_mk4ZOrmB"
      },
      "source": [
        "+ Drawing circles, lines, rectangles: https://legacy.imagemagick.org/Usage/draw/"
      ],
      "id": "86a_mk4ZOrmB"
    },
    {
      "cell_type": "markdown",
      "metadata": {
        "id": "VXCdK0QbObbs"
      },
      "source": [
        "\n",
        "+ Adding text to images: https://legacy.imagemagick.org/Usage/annotating/"
      ],
      "id": "VXCdK0QbObbs"
    },
    {
      "cell_type": "code",
      "metadata": {
        "id": "N8r8qXUkK_AX"
      },
      "source": [
        "!convert husky.jpg -pointsize 50 -gravity NorthWest -fill black -annotate 45,12 '%f' husky_annotated.jpg\n",
        "!convert husky.jpg -pointsize 100 -gravity North -fill white -annotate 0,15 '%f' husky_annotated2.jpg\n",
        "!convert husky.jpg -pointsize 100 -gravity North -fill white -annotate 0,15 'husky annotated' husky_annotated3.jpg\n",
        "!convert husky.jpg -pointsize 100 -gravity South -fill red -annotate 0,0 'husky annotated' husky_annotated4.jpg\n",
        "!montage -label '%f' husky_annotated*.jpg -pointsize 50 -geometry +0+0 -fill green -tile 2x2 -background silver husky_montannot.jpg\n",
        "Image(filename=\"husky_montannot.jpg\",width=800)"
      ],
      "id": "N8r8qXUkK_AX",
      "execution_count": null,
      "outputs": []
    },
    {
      "cell_type": "markdown",
      "metadata": {
        "id": "1d65dbb9"
      },
      "source": [
        "## 22. Image Information"
      ],
      "id": "1d65dbb9"
    },
    {
      "cell_type": "code",
      "metadata": {
        "id": "WMi6l-rSkGZV"
      },
      "source": [
        "!apt install file > /dev/null\n",
        "!file husky.jpg"
      ],
      "id": "WMi6l-rSkGZV",
      "execution_count": null,
      "outputs": []
    },
    {
      "cell_type": "code",
      "metadata": {
        "id": "lslmkDfLkY3M"
      },
      "source": [
        "!identify husky.jpg"
      ],
      "id": "lslmkDfLkY3M",
      "execution_count": null,
      "outputs": []
    },
    {
      "cell_type": "code",
      "metadata": {
        "id": "5ef011da"
      },
      "source": [
        "!identify -verbose husky.jpg"
      ],
      "id": "5ef011da",
      "execution_count": null,
      "outputs": []
    },
    {
      "cell_type": "markdown",
      "metadata": {
        "id": "cb545988"
      },
      "source": [
        "## 23. Image Optimizations\n",
        "\n",
        "see also: https://legacy.imagemagick.org/Usage/thumbnails/ "
      ],
      "id": "cb545988"
    },
    {
      "cell_type": "code",
      "metadata": {
        "id": "003e267b"
      },
      "source": [
        "!wget https://live.staticflickr.com/7286/9059564319_374d60828a_b.jpg -O husky.jpg\n",
        "!convert -strip -interlace Plane -gaussian-blur 0.05 -quality 85% husky.jpg huskyopt.jpg\n",
        "!convert husky.jpg  -sampling-factor 4:2:0 -strip -quality 85 -interlace JPEG -colorspace RGB huskyopt2.jpg\n",
        "!convert husky.jpg  -sampling-factor 4:2:0 -strip -quality 15 -interlace JPEG -colorspace RGB huskyopt3.jpg\n",
        "!montage -frame 5  -shadow  -geometry 500x500 -tile 2x2  husky.jpg huskyopt.jpg huskyopt2.jpg huskyopt3.jpg huskyoptmont.jpg\n",
        "Image(filename=\"huskyoptmont.jpg\", width=900)"
      ],
      "id": "003e267b",
      "execution_count": null,
      "outputs": []
    },
    {
      "cell_type": "code",
      "metadata": {
        "id": "095f0658"
      },
      "source": [
        "!du -h huskyopt* husky.jpg"
      ],
      "id": "095f0658",
      "execution_count": null,
      "outputs": []
    },
    {
      "cell_type": "markdown",
      "metadata": {
        "id": "5414b7b9"
      },
      "source": [
        "##24. Bash scripting to process an image or several images"
      ],
      "id": "5414b7b9"
    },
    {
      "cell_type": "markdown",
      "metadata": {
        "id": "0d55eda8"
      },
      "source": [
        "## 25. Advanced image processing techniques:\n",
        "### Edge detection\n",
        "### Contours\n",
        "### Box - measure\n",
        "### Line detector\n",
        "### Circle detector\n",
        "### Corner detector\n",
        "### Study cases\n",
        "  1. Meteorological Radar analysis\n",
        "  2. Study of heart cell biomarkers\n",
        "\n",
        "### AI applications: Object detection"
      ],
      "id": "0d55eda8"
    },
    {
      "cell_type": "markdown",
      "metadata": {
        "id": "b9e6e075"
      },
      "source": [
        "##26. Photo improvement: \n",
        "https://legacy.imagemagick.org/Usage/photos/"
      ],
      "id": "b9e6e075"
    },
    {
      "cell_type": "markdown",
      "metadata": {
        "id": "590f8d44"
      },
      "source": [
        "##27. Advanced animations:\n",
        "\n",
        "https://legacy.imagemagick.org/Usage/warping/"
      ],
      "id": "590f8d44"
    },
    {
      "cell_type": "markdown",
      "metadata": {
        "id": "66bcec26"
      },
      "source": [
        "## 28. Advanced scripting: \n",
        "\n",
        "https://legacy.imagemagick.org/Usage/api/"
      ],
      "id": "66bcec26"
    },
    {
      "cell_type": "markdown",
      "metadata": {
        "id": "5825b33c"
      },
      "source": [
        "## Exercices"
      ],
      "id": "5825b33c"
    },
    {
      "cell_type": "markdown",
      "metadata": {
        "id": "5d15e78d"
      },
      "source": [
        "Given the following Image and using image processing software (convert, GIMP or InkScape), answer this questions:\n",
        "\n",
        "+ What is the format?\n",
        "+ Is a vector graphics or raster?\n",
        "+ If image is vector, convert it to raster (jpg). Work with the converted image.\n",
        "+ What is the physical size?\n",
        "+ How many pixels does the image have?\n",
        "+ What is the colorspace of the image?\n",
        "+ What is the resolution of the image?\n",
        "+ What is the memory size?\n",
        "+ How many pixels lenght measure the long axis of the right eye of the dog?\n",
        "+ How many pixels are used to draw the right eye of the dog?\n",
        "+ What is the Blue channel value of the pixel located at (150,200)? Express that color in 8-bit format (0-255). \n",
        "+ How many pixels have the value between the region from 20 to 60?\n",
        "+ What is the average Green value of the image?\n",
        "+ Vectorize the image\n",
        "+ Make a montage of 9 images (3x3) using -geometry 500:\n",
        "    1. a rotated image (45 degrees)\n",
        "    2. Gamma corrected image\n",
        "    3. 50% transparency\n",
        "    4. A 4-color reduction\n",
        "    5. Convert to grayscale\n",
        "    6. Convert to cymk\n",
        "    7. Crop 400x400 pixels from the center\n",
        "    8. Blurred image\n",
        "    9. Cloned object\n",
        "+ Make a GIF using the next images from the original (using 50 as delay):\n",
        "    1. The original image\n",
        "    2. Black and White converted image at 30%\n",
        "    3. Black and White converted image at 60%\n",
        "    4. Inverted image of (3)\n",
        "    5. Only Red Channel\n",
        "    6. Grayscale image\n",
        "+ Make a rotated world GIF from the original image\n",
        "+ Convert to JPG and make an optimization. Find the original memory size and final memory size of optimized image. What is the amount of size reduction in (%)?\n",
        "+ What is the hidden message? You must use the original image.\n",
        "+ Make an script which automatically add a watermark over all JPG Images in the current directory on the bottom right corner. Also, put the date and filename as label format in each image.\n",
        "+ Use the following text file as a key for decipher this image\n",
        "+ Use the following image as a key for decipher this image\n",
        "+ Split that GIF in numbered frames using two digits. Then select the ith frame according to your indentifier list.\n"
      ],
      "id": "5d15e78d"
    },
    {
      "cell_type": "markdown",
      "metadata": {
        "id": "900afa18"
      },
      "source": [
        "## Resources:\n",
        "\n",
        "+ GIMP   : https://docs.gimp.org/2.10/en/\n",
        "    + Batch mode : \n",
        "        + https://www.gimp.org/tutorials/Basic_Batch/ \n",
        "        + https://www.rpi.edu/dept/acm/packages/gimp/gimp-1.2.3/help/C/command_line.html\n",
        "    + Python Developers :\n",
        "        + https://www.gimp.org/docs/python/index.html\n",
        "        + https://pythonrepo.com/repo/isman7-gimp-python-development\n",
        "+ OpenCV : \n",
        "    + https://opencv24-python-tutorials.readthedocs.io/en/latest/py_tutorials/py_core/py_table_of_contents_core/py_table_of_contents_core.html\n",
        "    + https://opencv24-python-tutorials.readthedocs.io/en/latest/py_tutorials/py_imgproc/py_table_of_contents_imgproc/py_table_of_contents_imgproc.html \n",
        "    + https://opencv24-python-tutorials.readthedocs.io/en/latest/py_tutorials/py_photo/py_table_of_contents_photo/py_table_of_contents_photo.html\n",
        "+ Convert examples: https://legacy.imagemagick.org/Usage/\n",
        "    + Montage          : https://legacy.imagemagick.org/Usage/montage/\n",
        "    + GIF animations   : https://legacy.imagemagick.org/Usage/anim_basics/\n",
        "    + Color Replacement: https://legacy.imagemagick.org/Usage/color_basics/#replace\n",
        "    + Annotations      : https://legacy.imagemagick.org/Usage/annotating/\n"
      ],
      "id": "900afa18"
    },
    {
      "cell_type": "code",
      "metadata": {
        "id": "6hFoUEfwDwMw"
      },
      "source": [
        ""
      ],
      "id": "6hFoUEfwDwMw",
      "execution_count": null,
      "outputs": []
    }
  ]
}